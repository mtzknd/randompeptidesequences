{
 "cells": [
  {
   "cell_type": "code",
   "execution_count": 1,
   "metadata": {},
   "outputs": [],
   "source": [
    "import random"
   ]
  },
  {
   "cell_type": "code",
   "execution_count": 2,
   "metadata": {},
   "outputs": [],
   "source": [
    "listofaa = [\"A\", \"B\", \"C\", \"D\", \"E\"]"
   ]
  },
  {
   "cell_type": "code",
   "execution_count": 3,
   "metadata": {},
   "outputs": [
    {
     "name": "stdout",
     "output_type": "stream",
     "text": [
      "How often duplicates have been created: 1\n",
      "X C A B Y\n",
      "X C D B Y\n",
      "X D E B Y\n",
      "X B C D Y\n",
      "X C E D Y\n",
      "X E A D Y\n",
      "X E D C Y\n",
      "X C E B Y\n",
      "X B A E Y\n",
      "X A C B Y\n"
     ]
    }
   ],
   "source": [
    "seqlist = []\n",
    "counter = 0\n",
    "\n",
    "for i in range(10):\n",
    "    seq = \"X \"\n",
    "    seq += \" \".join([str(e) for e in random.sample(listofaa,3)])\n",
    "    seq += \" Y\"\n",
    "    # print(seq)\n",
    "\n",
    "    while seq in seqlist:\n",
    "        counter +=1\n",
    "        seq = \"X \"\n",
    "        seq += \" \".join([str(e) for e in random.sample(listofaa,3)])\n",
    "        seq += \" Y\"\n",
    "        # print(seq)\n",
    "        if seq in seqlist:\n",
    "            counter +=1\n",
    "            continue\n",
    "\n",
    "    seqlist.append(seq)\n",
    "\n",
    "print(\"How often duplicates have been created: \" + str(counter))\n",
    "\n",
    "for i in seqlist:\n",
    "    print(i)\n",
    "\n"
   ]
  }
 ],
 "metadata": {
  "interpreter": {
   "hash": "c924c8bab2e82d766958900ebbffec83fda6366a6581366a238394a03fb58bb3"
  },
  "kernelspec": {
   "display_name": "Python 3.8.8 ('base')",
   "language": "python",
   "name": "python3"
  },
  "language_info": {
   "codemirror_mode": {
    "name": "ipython",
    "version": 3
   },
   "file_extension": ".py",
   "mimetype": "text/x-python",
   "name": "python",
   "nbconvert_exporter": "python",
   "pygments_lexer": "ipython3",
   "version": "3.10.4"
  },
  "orig_nbformat": 4
 },
 "nbformat": 4,
 "nbformat_minor": 2
}
